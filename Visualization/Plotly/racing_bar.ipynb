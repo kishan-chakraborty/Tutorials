{
 "cells": [
  {
   "cell_type": "code",
   "execution_count": null,
   "metadata": {},
   "outputs": [],
   "source": [
    "import pandas as pd\n",
    "import plotly.express as px\n",
    "import plotly.graph_objects as go\n",
    "import plotly.io as pio"
   ]
  },
  {
   "cell_type": "code",
   "execution_count": 55,
   "metadata": {},
   "outputs": [
    {
     "data": {
      "text/html": [
       "<div>\n",
       "<style scoped>\n",
       "    .dataframe tbody tr th:only-of-type {\n",
       "        vertical-align: middle;\n",
       "    }\n",
       "\n",
       "    .dataframe tbody tr th {\n",
       "        vertical-align: top;\n",
       "    }\n",
       "\n",
       "    .dataframe thead th {\n",
       "        text-align: right;\n",
       "    }\n",
       "</style>\n",
       "<table border=\"1\" class=\"dataframe\">\n",
       "  <thead>\n",
       "    <tr style=\"text-align: right;\">\n",
       "      <th></th>\n",
       "      <th>country</th>\n",
       "      <th>code</th>\n",
       "      <th>year</th>\n",
       "      <th>suicide rate (deaths per 100,000)</th>\n",
       "      <th>color_code</th>\n",
       "      <th>region</th>\n",
       "    </tr>\n",
       "  </thead>\n",
       "  <tbody>\n",
       "    <tr>\n",
       "      <th>0</th>\n",
       "      <td>Afghanistan</td>\n",
       "      <td>AFG</td>\n",
       "      <td>1990</td>\n",
       "      <td>10.318504</td>\n",
       "      <td>#000000</td>\n",
       "      <td>Eastern Mediterranean</td>\n",
       "    </tr>\n",
       "    <tr>\n",
       "      <th>1</th>\n",
       "      <td>Afghanistan</td>\n",
       "      <td>AFG</td>\n",
       "      <td>1991</td>\n",
       "      <td>10.327010</td>\n",
       "      <td>#000000</td>\n",
       "      <td>Eastern Mediterranean</td>\n",
       "    </tr>\n",
       "  </tbody>\n",
       "</table>\n",
       "</div>"
      ],
      "text/plain": [
       "       country code  year  suicide rate (deaths per 100,000) color_code  \\\n",
       "0  Afghanistan  AFG  1990                          10.318504    #000000   \n",
       "1  Afghanistan  AFG  1991                          10.327010    #000000   \n",
       "\n",
       "                  region  \n",
       "0  Eastern Mediterranean  \n",
       "1  Eastern Mediterranean  "
      ]
     },
     "execution_count": 55,
     "metadata": {},
     "output_type": "execute_result"
    }
   ],
   "source": [
    "data = pd.read_csv('racing_bar.csv')\n",
    "data.head(2)"
   ]
  },
  {
   "cell_type": "code",
   "execution_count": 56,
   "metadata": {},
   "outputs": [],
   "source": [
    "data = data.copy().rename(columns={'suicide rate (deaths per 100,000)':'rate'})"
   ]
  },
  {
   "cell_type": "code",
   "execution_count": 57,
   "metadata": {},
   "outputs": [],
   "source": [
    "years = data['year'].unique()"
   ]
  },
  {
   "cell_type": "code",
   "execution_count": 58,
   "metadata": {},
   "outputs": [
    {
     "data": {
      "text/html": [
       "<div>\n",
       "<style scoped>\n",
       "    .dataframe tbody tr th:only-of-type {\n",
       "        vertical-align: middle;\n",
       "    }\n",
       "\n",
       "    .dataframe tbody tr th {\n",
       "        vertical-align: top;\n",
       "    }\n",
       "\n",
       "    .dataframe thead th {\n",
       "        text-align: right;\n",
       "    }\n",
       "</style>\n",
       "<table border=\"1\" class=\"dataframe\">\n",
       "  <thead>\n",
       "    <tr style=\"text-align: right;\">\n",
       "      <th></th>\n",
       "      <th>country</th>\n",
       "      <th>code</th>\n",
       "      <th>year</th>\n",
       "      <th>rate</th>\n",
       "      <th>color_code</th>\n",
       "      <th>region</th>\n",
       "    </tr>\n",
       "  </thead>\n",
       "  <tbody>\n",
       "    <tr>\n",
       "      <th>0</th>\n",
       "      <td>Afghanistan</td>\n",
       "      <td>AFG</td>\n",
       "      <td>1990</td>\n",
       "      <td>10.318504</td>\n",
       "      <td>#000000</td>\n",
       "      <td>Eastern Mediterranean</td>\n",
       "    </tr>\n",
       "    <tr>\n",
       "      <th>1</th>\n",
       "      <td>Afghanistan</td>\n",
       "      <td>AFG</td>\n",
       "      <td>1991</td>\n",
       "      <td>10.327010</td>\n",
       "      <td>#000000</td>\n",
       "      <td>Eastern Mediterranean</td>\n",
       "    </tr>\n",
       "    <tr>\n",
       "      <th>2</th>\n",
       "      <td>Afghanistan</td>\n",
       "      <td>AFG</td>\n",
       "      <td>1992</td>\n",
       "      <td>10.271411</td>\n",
       "      <td>#000000</td>\n",
       "      <td>Eastern Mediterranean</td>\n",
       "    </tr>\n",
       "    <tr>\n",
       "      <th>3</th>\n",
       "      <td>Afghanistan</td>\n",
       "      <td>AFG</td>\n",
       "      <td>1993</td>\n",
       "      <td>10.376123</td>\n",
       "      <td>#000000</td>\n",
       "      <td>Eastern Mediterranean</td>\n",
       "    </tr>\n",
       "    <tr>\n",
       "      <th>4</th>\n",
       "      <td>Afghanistan</td>\n",
       "      <td>AFG</td>\n",
       "      <td>1994</td>\n",
       "      <td>10.575915</td>\n",
       "      <td>#000000</td>\n",
       "      <td>Eastern Mediterranean</td>\n",
       "    </tr>\n",
       "    <tr>\n",
       "      <th>...</th>\n",
       "      <td>...</td>\n",
       "      <td>...</td>\n",
       "      <td>...</td>\n",
       "      <td>...</td>\n",
       "      <td>...</td>\n",
       "      <td>...</td>\n",
       "    </tr>\n",
       "    <tr>\n",
       "      <th>5371</th>\n",
       "      <td>Zimbabwe</td>\n",
       "      <td>ZWE</td>\n",
       "      <td>2013</td>\n",
       "      <td>28.361200</td>\n",
       "      <td>#CC99FF</td>\n",
       "      <td>Africa</td>\n",
       "    </tr>\n",
       "    <tr>\n",
       "      <th>5372</th>\n",
       "      <td>Zimbabwe</td>\n",
       "      <td>ZWE</td>\n",
       "      <td>2014</td>\n",
       "      <td>27.605547</td>\n",
       "      <td>#CC99FF</td>\n",
       "      <td>Africa</td>\n",
       "    </tr>\n",
       "    <tr>\n",
       "      <th>5373</th>\n",
       "      <td>Zimbabwe</td>\n",
       "      <td>ZWE</td>\n",
       "      <td>2015</td>\n",
       "      <td>27.197061</td>\n",
       "      <td>#CC99FF</td>\n",
       "      <td>Africa</td>\n",
       "    </tr>\n",
       "    <tr>\n",
       "      <th>5374</th>\n",
       "      <td>Zimbabwe</td>\n",
       "      <td>ZWE</td>\n",
       "      <td>2016</td>\n",
       "      <td>26.839591</td>\n",
       "      <td>#CC99FF</td>\n",
       "      <td>Africa</td>\n",
       "    </tr>\n",
       "    <tr>\n",
       "      <th>5375</th>\n",
       "      <td>Zimbabwe</td>\n",
       "      <td>ZWE</td>\n",
       "      <td>2017</td>\n",
       "      <td>26.391769</td>\n",
       "      <td>#CC99FF</td>\n",
       "      <td>Africa</td>\n",
       "    </tr>\n",
       "  </tbody>\n",
       "</table>\n",
       "<p>5376 rows × 6 columns</p>\n",
       "</div>"
      ],
      "text/plain": [
       "          country code  year       rate color_code                 region\n",
       "0     Afghanistan  AFG  1990  10.318504    #000000  Eastern Mediterranean\n",
       "1     Afghanistan  AFG  1991  10.327010    #000000  Eastern Mediterranean\n",
       "2     Afghanistan  AFG  1992  10.271411    #000000  Eastern Mediterranean\n",
       "3     Afghanistan  AFG  1993  10.376123    #000000  Eastern Mediterranean\n",
       "4     Afghanistan  AFG  1994  10.575915    #000000  Eastern Mediterranean\n",
       "...           ...  ...   ...        ...        ...                    ...\n",
       "5371     Zimbabwe  ZWE  2013  28.361200    #CC99FF                 Africa\n",
       "5372     Zimbabwe  ZWE  2014  27.605547    #CC99FF                 Africa\n",
       "5373     Zimbabwe  ZWE  2015  27.197061    #CC99FF                 Africa\n",
       "5374     Zimbabwe  ZWE  2016  26.839591    #CC99FF                 Africa\n",
       "5375     Zimbabwe  ZWE  2017  26.391769    #CC99FF                 Africa\n",
       "\n",
       "[5376 rows x 6 columns]"
      ]
     },
     "execution_count": 58,
     "metadata": {},
     "output_type": "execute_result"
    }
   ],
   "source": [
    "data"
   ]
  },
  {
   "cell_type": "code",
   "execution_count": 60,
   "metadata": {},
   "outputs": [],
   "source": [
    "# create a dict with keys 1-28 and values as DataFrames of a year and a region\n",
    "n_frame = {}\n",
    "for i, year in enumerate(years):\n",
    "    df = data[(data['year']==year) & (data['region']=='Europe')] \n",
    "    df = df.nlargest(n=5, columns=['rate']) # Only top 5 suicide rate values(countries)\n",
    "    df = df.sort_values(by=['rate'], ascending=True)\n",
    "    n_frame[i] = df"
   ]
  },
  {
   "cell_type": "code",
   "execution_count": 68,
   "metadata": {},
   "outputs": [
    {
     "data": {
      "application/vnd.plotly.v1+json": {
       "config": {
        "plotlyServerURL": "https://plot.ly"
       },
       "data": [
        {
         "marker": {
          "color": [
           "#FF9900",
           "#FF8080",
           "#008080",
           "#993300",
           "#FFCC99"
          ]
         },
         "orientation": "h",
         "text": [
          27.68452724,
          27.96991886,
          28.3210154,
          33.81013435,
          98.83169616
         ],
         "texttemplate": "%{text:.3s}",
         "type": "bar",
         "x": [
          27.68452724,
          27.96991886,
          28.3210154,
          33.81013435,
          98.83169616
         ],
         "y": [
          "Slovenia",
          "Lithuania",
          "Russia",
          "Hungary",
          "Greenland"
         ]
        }
       ],
       "frames": [
        {
         "data": [
          {
           "marker": {
            "color": [
             "#FF9900",
             "#FF8080",
             "#008080",
             "#993300",
             "#FFCC99"
            ]
           },
           "orientation": "h",
           "text": [
            27.68452724,
            27.96991886,
            28.3210154,
            33.81013435,
            98.83169616
           ],
           "texttemplate": "%{text:.3s}",
           "type": "bar",
           "x": [
            27.68452724,
            27.96991886,
            28.3210154,
            33.81013435,
            98.83169616
           ],
           "y": [
            "Slovenia",
            "Lithuania",
            "Russia",
            "Hungary",
            "Greenland"
           ]
          }
         ],
         "layout": {
          "title": {
           "font": {
            "size": 28
           },
           "text": "Top 5 country in suicide rate (Europe)1990",
           "x": 0.5,
           "xanchor": "center"
          },
          "xaxis": {
           "autorange": false,
           "range": [
            0,
            100
           ],
           "title": {
            "font": {
             "size": 18
            },
            "text": "suicide rate"
           }
          },
          "yaxis": {
           "autorange": false,
           "range": [
            -0.5,
            5.5
           ],
           "tickfont": {
            "size": 14
           }
          }
         }
        },
        {
         "data": [
          {
           "marker": {
            "color": [
             "#FF9900",
             "#008080",
             "#FF8080",
             "#993300",
             "#FFCC99"
            ]
           },
           "orientation": "h",
           "text": [
            28.64423866,
            29.61750428,
            30.8689814,
            32.34245015,
            96.08516412
           ],
           "texttemplate": "%{text:.3s}",
           "type": "bar",
           "x": [
            28.64423866,
            29.61750428,
            30.8689814,
            32.34245015,
            96.08516412
           ],
           "y": [
            "Slovenia",
            "Russia",
            "Lithuania",
            "Hungary",
            "Greenland"
           ]
          }
         ],
         "layout": {
          "title": {
           "font": {
            "size": 28
           },
           "text": "Top 5 country in suicide rate (Europe)1991",
           "x": 0.5,
           "xanchor": "center"
          },
          "xaxis": {
           "autorange": false,
           "range": [
            0,
            100
           ],
           "title": {
            "font": {
             "size": 18
            },
            "text": "suicide rate"
           }
          },
          "yaxis": {
           "autorange": false,
           "range": [
            -0.5,
            5.5
           ],
           "tickfont": {
            "size": 14
           }
          }
         }
        },
        {
         "data": [
          {
           "marker": {
            "color": [
             "#9999FF",
             "#993300",
             "#FF8080",
             "#008080",
             "#FFCC99"
            ]
           },
           "orientation": "h",
           "text": [
            30.32244547,
            32.78575793,
            32.8404175,
            34.48857804,
            93.23062931
           ],
           "texttemplate": "%{text:.3s}",
           "type": "bar",
           "x": [
            30.32244547,
            32.78575793,
            32.8404175,
            34.48857804,
            93.23062931
           ],
           "y": [
            "Latvia",
            "Hungary",
            "Lithuania",
            "Russia",
            "Greenland"
           ]
          }
         ],
         "layout": {
          "title": {
           "font": {
            "size": 28
           },
           "text": "Top 5 country in suicide rate (Europe)1992",
           "x": 0.5,
           "xanchor": "center"
          },
          "xaxis": {
           "autorange": false,
           "range": [
            0,
            100
           ],
           "title": {
            "font": {
             "size": 18
            },
            "text": "suicide rate"
           }
          },
          "yaxis": {
           "autorange": false,
           "range": [
            -0.5,
            5.5
           ],
           "tickfont": {
            "size": 14
           }
          }
         }
        },
        {
         "data": [
          {
           "marker": {
            "color": [
             "#800080",
             "#9999FF",
             "#FF8080",
             "#008080",
             "#FFCC99"
            ]
           },
           "orientation": "h",
           "text": [
            34.47647733,
            36.4928388,
            39.46039366,
            44.01726434,
            91.07142832
           ],
           "texttemplate": "%{text:.3s}",
           "type": "bar",
           "x": [
            34.47647733,
            36.4928388,
            39.46039366,
            44.01726434,
            91.07142832
           ],
           "y": [
            "Estonia",
            "Latvia",
            "Lithuania",
            "Russia",
            "Greenland"
           ]
          }
         ],
         "layout": {
          "title": {
           "font": {
            "size": 28
           },
           "text": "Top 5 country in suicide rate (Europe)1993",
           "x": 0.5,
           "xanchor": "center"
          },
          "xaxis": {
           "autorange": false,
           "range": [
            0,
            100
           ],
           "title": {
            "font": {
             "size": 18
            },
            "text": "suicide rate"
           }
          },
          "yaxis": {
           "autorange": false,
           "range": [
            -0.5,
            5.5
           ],
           "tickfont": {
            "size": 14
           }
          }
         }
        },
        {
         "data": [
          {
           "marker": {
            "color": [
             "#800080",
             "#9999FF",
             "#FF8080",
             "#008080",
             "#FFCC99"
            ]
           },
           "orientation": "h",
           "text": [
            39.47178508,
            40.87625763,
            44.14595049,
            50.17633284,
            89.22549608
           ],
           "texttemplate": "%{text:.3s}",
           "type": "bar",
           "x": [
            39.47178508,
            40.87625763,
            44.14595049,
            50.17633284,
            89.22549608
           ],
           "y": [
            "Estonia",
            "Latvia",
            "Lithuania",
            "Russia",
            "Greenland"
           ]
          }
         ],
         "layout": {
          "title": {
           "font": {
            "size": 28
           },
           "text": "Top 5 country in suicide rate (Europe)1994",
           "x": 0.5,
           "xanchor": "center"
          },
          "xaxis": {
           "autorange": false,
           "range": [
            0,
            100
           ],
           "title": {
            "font": {
             "size": 18
            },
            "text": "suicide rate"
           }
          },
          "yaxis": {
           "autorange": false,
           "range": [
            -0.5,
            5.5
           ],
           "tickfont": {
            "size": 14
           }
          }
         }
        },
        {
         "data": [
          {
           "marker": {
            "color": [
             "#800080",
             "#9999FF",
             "#FF8080",
             "#008080",
             "#FFCC99"
            ]
           },
           "orientation": "h",
           "text": [
            38.1647336,
            38.39237718,
            44.77338671,
            48.07255348,
            87.05193756
           ],
           "texttemplate": "%{text:.3s}",
           "type": "bar",
           "x": [
            38.1647336,
            38.39237718,
            44.77338671,
            48.07255348,
            87.05193756
           ],
           "y": [
            "Estonia",
            "Latvia",
            "Lithuania",
            "Russia",
            "Greenland"
           ]
          }
         ],
         "layout": {
          "title": {
           "font": {
            "size": 28
           },
           "text": "Top 5 country in suicide rate (Europe)1995",
           "x": 0.5,
           "xanchor": "center"
          },
          "xaxis": {
           "autorange": false,
           "range": [
            0,
            100
           ],
           "title": {
            "font": {
             "size": 18
            },
            "text": "suicide rate"
           }
          },
          "yaxis": {
           "autorange": false,
           "range": [
            -0.5,
            5.5
           ],
           "tickfont": {
            "size": 14
           }
          }
         }
        },
        {
         "data": [
          {
           "marker": {
            "color": [
             "#9999FF",
             "#800080",
             "#FF8080",
             "#008080",
             "#FFCC99"
            ]
           },
           "orientation": "h",
           "text": [
            32.44108859,
            32.70590405,
            42.79710793,
            43.75022984,
            85.70780258
           ],
           "texttemplate": "%{text:.3s}",
           "type": "bar",
           "x": [
            32.44108859,
            32.70590405,
            42.79710793,
            43.75022984,
            85.70780258
           ],
           "y": [
            "Latvia",
            "Estonia",
            "Lithuania",
            "Russia",
            "Greenland"
           ]
          }
         ],
         "layout": {
          "title": {
           "font": {
            "size": 28
           },
           "text": "Top 5 country in suicide rate (Europe)1996",
           "x": 0.5,
           "xanchor": "center"
          },
          "xaxis": {
           "autorange": false,
           "range": [
            0,
            100
           ],
           "title": {
            "font": {
             "size": 18
            },
            "text": "suicide rate"
           }
          },
          "yaxis": {
           "autorange": false,
           "range": [
            -0.5,
            5.5
           ],
           "tickfont": {
            "size": 14
           }
          }
         }
        },
        {
         "data": [
          {
           "marker": {
            "color": [
             "#800080",
             "#FFFFCC",
             "#008080",
             "#FF8080",
             "#FFCC99"
            ]
           },
           "orientation": "h",
           "text": [
            31.87196872,
            32.87936394,
            39.75737961,
            40.78307855,
            84.58582055
           ],
           "texttemplate": "%{text:.3s}",
           "type": "bar",
           "x": [
            31.87196872,
            32.87936394,
            39.75737961,
            40.78307855,
            84.58582055
           ],
           "y": [
            "Estonia",
            "Belarus",
            "Russia",
            "Lithuania",
            "Greenland"
           ]
          }
         ],
         "layout": {
          "title": {
           "font": {
            "size": 28
           },
           "text": "Top 5 country in suicide rate (Europe)1997",
           "x": 0.5,
           "xanchor": "center"
          },
          "xaxis": {
           "autorange": false,
           "range": [
            0,
            100
           ],
           "title": {
            "font": {
             "size": 18
            },
            "text": "suicide rate"
           }
          },
          "yaxis": {
           "autorange": false,
           "range": [
            -0.5,
            5.5
           ],
           "tickfont": {
            "size": 14
           }
          }
         }
        },
        {
         "data": [
          {
           "marker": {
            "color": [
             "#800080",
             "#FFFFCC",
             "#008080",
             "#FF8080",
             "#FFCC99"
            ]
           },
           "orientation": "h",
           "text": [
            32.45698366,
            34.5703973,
            38.81936013,
            40.6590344,
            82.86845561
           ],
           "texttemplate": "%{text:.3s}",
           "type": "bar",
           "x": [
            32.45698366,
            34.5703973,
            38.81936013,
            40.6590344,
            82.86845561
           ],
           "y": [
            "Estonia",
            "Belarus",
            "Russia",
            "Lithuania",
            "Greenland"
           ]
          }
         ],
         "layout": {
          "title": {
           "font": {
            "size": 28
           },
           "text": "Top 5 country in suicide rate (Europe)1998",
           "x": 0.5,
           "xanchor": "center"
          },
          "xaxis": {
           "autorange": false,
           "range": [
            0,
            100
           ],
           "title": {
            "font": {
             "size": 18
            },
            "text": "suicide rate"
           }
          },
          "yaxis": {
           "autorange": false,
           "range": [
            -0.5,
            5.5
           ],
           "tickfont": {
            "size": 14
           }
          }
         }
        },
        {
         "data": [
          {
           "marker": {
            "color": [
             "#008000",
             "#FFFFCC",
             "#FF8080",
             "#008080",
             "#FFCC99"
            ]
           },
           "orientation": "h",
           "text": [
            30.04522003,
            35.52301644,
            40.14071997,
            42.49159181,
            80.84243022
           ],
           "texttemplate": "%{text:.3s}",
           "type": "bar",
           "x": [
            30.04522003,
            35.52301644,
            40.14071997,
            42.49159181,
            80.84243022
           ],
           "y": [
            "Kazakhstan",
            "Belarus",
            "Lithuania",
            "Russia",
            "Greenland"
           ]
          }
         ],
         "layout": {
          "title": {
           "font": {
            "size": 28
           },
           "text": "Top 5 country in suicide rate (Europe)1999",
           "x": 0.5,
           "xanchor": "center"
          },
          "xaxis": {
           "autorange": false,
           "range": [
            0,
            100
           ],
           "title": {
            "font": {
             "size": 18
            },
            "text": "suicide rate"
           }
          },
          "yaxis": {
           "autorange": false,
           "range": [
            -0.5,
            5.5
           ],
           "tickfont": {
            "size": 14
           }
          }
         }
        },
        {
         "data": [
          {
           "marker": {
            "color": [
             "#008000",
             "#FFFFCC",
             "#FF8080",
             "#008080",
             "#FFCC99"
            ]
           },
           "orientation": "h",
           "text": [
            33.43099146,
            33.72758037,
            40.40695313,
            44.18017983,
            78.58067589
           ],
           "texttemplate": "%{text:.3s}",
           "type": "bar",
           "x": [
            33.43099146,
            33.72758037,
            40.40695313,
            44.18017983,
            78.58067589
           ],
           "y": [
            "Kazakhstan",
            "Belarus",
            "Lithuania",
            "Russia",
            "Greenland"
           ]
          }
         ],
         "layout": {
          "title": {
           "font": {
            "size": 28
           },
           "text": "Top 5 country in suicide rate (Europe)2000",
           "x": 0.5,
           "xanchor": "center"
          },
          "xaxis": {
           "autorange": false,
           "range": [
            0,
            100
           ],
           "title": {
            "font": {
             "size": 18
            },
            "text": "suicide rate"
           }
          },
          "yaxis": {
           "autorange": false,
           "range": [
            -0.5,
            5.5
           ],
           "tickfont": {
            "size": 14
           }
          }
         }
        },
        {
         "data": [
          {
           "marker": {
            "color": [
             "#008000",
             "#FFFFCC",
             "#FF8080",
             "#008080",
             "#FFCC99"
            ]
           },
           "orientation": "h",
           "text": [
            35.03061069,
            35.0551137,
            41.52278771,
            43.41586102,
            77.13132121
           ],
           "texttemplate": "%{text:.3s}",
           "type": "bar",
           "x": [
            35.03061069,
            35.0551137,
            41.52278771,
            43.41586102,
            77.13132121
           ],
           "y": [
            "Kazakhstan",
            "Belarus",
            "Lithuania",
            "Russia",
            "Greenland"
           ]
          }
         ],
         "layout": {
          "title": {
           "font": {
            "size": 28
           },
           "text": "Top 5 country in suicide rate (Europe)2001",
           "x": 0.5,
           "xanchor": "center"
          },
          "xaxis": {
           "autorange": false,
           "range": [
            0,
            100
           ],
           "title": {
            "font": {
             "size": 18
            },
            "text": "suicide rate"
           }
          },
          "yaxis": {
           "autorange": false,
           "range": [
            -0.5,
            5.5
           ],
           "tickfont": {
            "size": 14
           }
          }
         }
        },
        {
         "data": [
          {
           "marker": {
            "color": [
             "#008000",
             "#FFFFCC",
             "#FF8080",
             "#008080",
             "#FFCC99"
            ]
           },
           "orientation": "h",
           "text": [
            35.43394987,
            36.95362752,
            39.88733483,
            42.92428152,
            75.29432391
           ],
           "texttemplate": "%{text:.3s}",
           "type": "bar",
           "x": [
            35.43394987,
            36.95362752,
            39.88733483,
            42.92428152,
            75.29432391
           ],
           "y": [
            "Kazakhstan",
            "Belarus",
            "Lithuania",
            "Russia",
            "Greenland"
           ]
          }
         ],
         "layout": {
          "title": {
           "font": {
            "size": 28
           },
           "text": "Top 5 country in suicide rate (Europe)2002",
           "x": 0.5,
           "xanchor": "center"
          },
          "xaxis": {
           "autorange": false,
           "range": [
            0,
            100
           ],
           "title": {
            "font": {
             "size": 18
            },
            "text": "suicide rate"
           }
          },
          "yaxis": {
           "autorange": false,
           "range": [
            -0.5,
            5.5
           ],
           "tickfont": {
            "size": 14
           }
          }
         }
        },
        {
         "data": [
          {
           "marker": {
            "color": [
             "#FFFFCC",
             "#008000",
             "#FF8080",
             "#008080",
             "#FFCC99"
            ]
           },
           "orientation": "h",
           "text": [
            35.73983409,
            36.91345613,
            38.45515633,
            42.753197,
            73.55686368
           ],
           "texttemplate": "%{text:.3s}",
           "type": "bar",
           "x": [
            35.73983409,
            36.91345613,
            38.45515633,
            42.753197,
            73.55686368
           ],
           "y": [
            "Belarus",
            "Kazakhstan",
            "Lithuania",
            "Russia",
            "Greenland"
           ]
          }
         ],
         "layout": {
          "title": {
           "font": {
            "size": 28
           },
           "text": "Top 5 country in suicide rate (Europe)2003",
           "x": 0.5,
           "xanchor": "center"
          },
          "xaxis": {
           "autorange": false,
           "range": [
            0,
            100
           ],
           "title": {
            "font": {
             "size": 18
            },
            "text": "suicide rate"
           }
          },
          "yaxis": {
           "autorange": false,
           "range": [
            -0.5,
            5.5
           ],
           "tickfont": {
            "size": 14
           }
          }
         }
        },
        {
         "data": [
          {
           "marker": {
            "color": [
             "#FFFFCC",
             "#FF8080",
             "#008000",
             "#008080",
             "#FFCC99"
            ]
           },
           "orientation": "h",
           "text": [
            34.53625807,
            37.54145883,
            37.9621409,
            41.84544795,
            72.50488732
           ],
           "texttemplate": "%{text:.3s}",
           "type": "bar",
           "x": [
            34.53625807,
            37.54145883,
            37.9621409,
            41.84544795,
            72.50488732
           ],
           "y": [
            "Belarus",
            "Lithuania",
            "Kazakhstan",
            "Russia",
            "Greenland"
           ]
          }
         ],
         "layout": {
          "title": {
           "font": {
            "size": 28
           },
           "text": "Top 5 country in suicide rate (Europe)2004",
           "x": 0.5,
           "xanchor": "center"
          },
          "xaxis": {
           "autorange": false,
           "range": [
            0,
            100
           ],
           "title": {
            "font": {
             "size": 18
            },
            "text": "suicide rate"
           }
          },
          "yaxis": {
           "autorange": false,
           "range": [
            -0.5,
            5.5
           ],
           "tickfont": {
            "size": 14
           }
          }
         }
        },
        {
         "data": [
          {
           "marker": {
            "color": [
             "#FFFFCC",
             "#008000",
             "#FF8080",
             "#008080",
             "#FFCC99"
            ]
           },
           "orientation": "h",
           "text": [
            35.0777284,
            38.28511187,
            38.56010803,
            43.24536356,
            71.14640689
           ],
           "texttemplate": "%{text:.3s}",
           "type": "bar",
           "x": [
            35.0777284,
            38.28511187,
            38.56010803,
            43.24536356,
            71.14640689
           ],
           "y": [
            "Belarus",
            "Kazakhstan",
            "Lithuania",
            "Russia",
            "Greenland"
           ]
          }
         ],
         "layout": {
          "title": {
           "font": {
            "size": 28
           },
           "text": "Top 5 country in suicide rate (Europe)2005",
           "x": 0.5,
           "xanchor": "center"
          },
          "xaxis": {
           "autorange": false,
           "range": [
            0,
            100
           ],
           "title": {
            "font": {
             "size": 18
            },
            "text": "suicide rate"
           }
          },
          "yaxis": {
           "autorange": false,
           "range": [
            -0.5,
            5.5
           ],
           "tickfont": {
            "size": 14
           }
          }
         }
        },
        {
         "data": [
          {
           "marker": {
            "color": [
             "#FFFFCC",
             "#008000",
             "#FF8080",
             "#008080",
             "#FFCC99"
            ]
           },
           "orientation": "h",
           "text": [
            33.11092188,
            37.94302494,
            38.33895401,
            38.56668601,
            69.79954511
           ],
           "texttemplate": "%{text:.3s}",
           "type": "bar",
           "x": [
            33.11092188,
            37.94302494,
            38.33895401,
            38.56668601,
            69.79954511
           ],
           "y": [
            "Belarus",
            "Kazakhstan",
            "Lithuania",
            "Russia",
            "Greenland"
           ]
          }
         ],
         "layout": {
          "title": {
           "font": {
            "size": 28
           },
           "text": "Top 5 country in suicide rate (Europe)2006",
           "x": 0.5,
           "xanchor": "center"
          },
          "xaxis": {
           "autorange": false,
           "range": [
            0,
            100
           ],
           "title": {
            "font": {
             "size": 18
            },
            "text": "suicide rate"
           }
          },
          "yaxis": {
           "autorange": false,
           "range": [
            -0.5,
            5.5
           ],
           "tickfont": {
            "size": 14
           }
          }
         }
        },
        {
         "data": [
          {
           "marker": {
            "color": [
             "#FFFFCC",
             "#008080",
             "#008000",
             "#FF8080",
             "#FFCC99"
            ]
           },
           "orientation": "h",
           "text": [
            30.36381932,
            35.6992254,
            35.80804768,
            39.55163689,
            67.62227129
           ],
           "texttemplate": "%{text:.3s}",
           "type": "bar",
           "x": [
            30.36381932,
            35.6992254,
            35.80804768,
            39.55163689,
            67.62227129
           ],
           "y": [
            "Belarus",
            "Russia",
            "Kazakhstan",
            "Lithuania",
            "Greenland"
           ]
          }
         ],
         "layout": {
          "title": {
           "font": {
            "size": 28
           },
           "text": "Top 5 country in suicide rate (Europe)2007",
           "x": 0.5,
           "xanchor": "center"
          },
          "xaxis": {
           "autorange": false,
           "range": [
            0,
            100
           ],
           "title": {
            "font": {
             "size": 18
            },
            "text": "suicide rate"
           }
          },
          "yaxis": {
           "autorange": false,
           "range": [
            -0.5,
            5.5
           ],
           "tickfont": {
            "size": 14
           }
          }
         }
        },
        {
         "data": [
          {
           "marker": {
            "color": [
             "#FFFFCC",
             "#008000",
             "#008080",
             "#FF8080",
             "#FFCC99"
            ]
           },
           "orientation": "h",
           "text": [
            30.48032543,
            32.96248639,
            34.8930479,
            37.03494444,
            66.51679313
           ],
           "texttemplate": "%{text:.3s}",
           "type": "bar",
           "x": [
            30.48032543,
            32.96248639,
            34.8930479,
            37.03494444,
            66.51679313
           ],
           "y": [
            "Belarus",
            "Kazakhstan",
            "Russia",
            "Lithuania",
            "Greenland"
           ]
          }
         ],
         "layout": {
          "title": {
           "font": {
            "size": 28
           },
           "text": "Top 5 country in suicide rate (Europe)2008",
           "x": 0.5,
           "xanchor": "center"
          },
          "xaxis": {
           "autorange": false,
           "range": [
            0,
            100
           ],
           "title": {
            "font": {
             "size": 18
            },
            "text": "suicide rate"
           }
          },
          "yaxis": {
           "autorange": false,
           "range": [
            -0.5,
            5.5
           ],
           "tickfont": {
            "size": 14
           }
          }
         }
        },
        {
         "data": [
          {
           "marker": {
            "color": [
             "#FFFFCC",
             "#008000",
             "#008080",
             "#FF8080",
             "#FFCC99"
            ]
           },
           "orientation": "h",
           "text": [
            29.89694257,
            30.06614665,
            32.19579595,
            32.80968449,
            65.21526457
           ],
           "texttemplate": "%{text:.3s}",
           "type": "bar",
           "x": [
            29.89694257,
            30.06614665,
            32.19579595,
            32.80968449,
            65.21526457
           ],
           "y": [
            "Belarus",
            "Kazakhstan",
            "Russia",
            "Lithuania",
            "Greenland"
           ]
          }
         ],
         "layout": {
          "title": {
           "font": {
            "size": 28
           },
           "text": "Top 5 country in suicide rate (Europe)2009",
           "x": 0.5,
           "xanchor": "center"
          },
          "xaxis": {
           "autorange": false,
           "range": [
            0,
            100
           ],
           "title": {
            "font": {
             "size": 18
            },
            "text": "suicide rate"
           }
          },
          "yaxis": {
           "autorange": false,
           "range": [
            -0.5,
            5.5
           ],
           "tickfont": {
            "size": 14
           }
          }
         }
        },
        {
         "data": [
          {
           "marker": {
            "color": [
             "#FFFFCC",
             "#008000",
             "#008080",
             "#FF8080",
             "#FFCC99"
            ]
           },
           "orientation": "h",
           "text": [
            29.21760042,
            29.53235606,
            31.87555782,
            32.01011467,
            63.99491137
           ],
           "texttemplate": "%{text:.3s}",
           "type": "bar",
           "x": [
            29.21760042,
            29.53235606,
            31.87555782,
            32.01011467,
            63.99491137
           ],
           "y": [
            "Belarus",
            "Kazakhstan",
            "Russia",
            "Lithuania",
            "Greenland"
           ]
          }
         ],
         "layout": {
          "title": {
           "font": {
            "size": 28
           },
           "text": "Top 5 country in suicide rate (Europe)2010",
           "x": 0.5,
           "xanchor": "center"
          },
          "xaxis": {
           "autorange": false,
           "range": [
            0,
            100
           ],
           "title": {
            "font": {
             "size": 18
            },
            "text": "suicide rate"
           }
          },
          "yaxis": {
           "autorange": false,
           "range": [
            -0.5,
            5.5
           ],
           "tickfont": {
            "size": 14
           }
          }
         }
        },
        {
         "data": [
          {
           "marker": {
            "color": [
             "#008000",
             "#FFFFCC",
             "#008080",
             "#FF8080",
             "#FFCC99"
            ]
           },
           "orientation": "h",
           "text": [
            28.497202,
            29.2426896,
            29.31352467,
            31.32517588,
            62.1087551
           ],
           "texttemplate": "%{text:.3s}",
           "type": "bar",
           "x": [
            28.497202,
            29.2426896,
            29.31352467,
            31.32517588,
            62.1087551
           ],
           "y": [
            "Kazakhstan",
            "Belarus",
            "Russia",
            "Lithuania",
            "Greenland"
           ]
          }
         ],
         "layout": {
          "title": {
           "font": {
            "size": 28
           },
           "text": "Top 5 country in suicide rate (Europe)2011",
           "x": 0.5,
           "xanchor": "center"
          },
          "xaxis": {
           "autorange": false,
           "range": [
            0,
            100
           ],
           "title": {
            "font": {
             "size": 18
            },
            "text": "suicide rate"
           }
          },
          "yaxis": {
           "autorange": false,
           "range": [
            -0.5,
            5.5
           ],
           "tickfont": {
            "size": 14
           }
          }
         }
        },
        {
         "data": [
          {
           "marker": {
            "color": [
             "#FFFFCC",
             "#008000",
             "#008080",
             "#FF8080",
             "#FFCC99"
            ]
           },
           "orientation": "h",
           "text": [
            24.2811457,
            27.36906614,
            28.42101224,
            30.97556589,
            60.46276321
           ],
           "texttemplate": "%{text:.3s}",
           "type": "bar",
           "x": [
            24.2811457,
            27.36906614,
            28.42101224,
            30.97556589,
            60.46276321
           ],
           "y": [
            "Belarus",
            "Kazakhstan",
            "Russia",
            "Lithuania",
            "Greenland"
           ]
          }
         ],
         "layout": {
          "title": {
           "font": {
            "size": 28
           },
           "text": "Top 5 country in suicide rate (Europe)2012",
           "x": 0.5,
           "xanchor": "center"
          },
          "xaxis": {
           "autorange": false,
           "range": [
            0,
            100
           ],
           "title": {
            "font": {
             "size": 18
            },
            "text": "suicide rate"
           }
          },
          "yaxis": {
           "autorange": false,
           "range": [
            -0.5,
            5.5
           ],
           "tickfont": {
            "size": 14
           }
          }
         }
        },
        {
         "data": [
          {
           "marker": {
            "color": [
             "#FFFFCC",
             "#008000",
             "#008080",
             "#FF8080",
             "#FFCC99"
            ]
           },
           "orientation": "h",
           "text": [
            22.56644214,
            25.85464155,
            27.75696353,
            31.8997562,
            59.43176918
           ],
           "texttemplate": "%{text:.3s}",
           "type": "bar",
           "x": [
            22.56644214,
            25.85464155,
            27.75696353,
            31.8997562,
            59.43176918
           ],
           "y": [
            "Belarus",
            "Kazakhstan",
            "Russia",
            "Lithuania",
            "Greenland"
           ]
          }
         ],
         "layout": {
          "title": {
           "font": {
            "size": 28
           },
           "text": "Top 5 country in suicide rate (Europe)2013",
           "x": 0.5,
           "xanchor": "center"
          },
          "xaxis": {
           "autorange": false,
           "range": [
            0,
            100
           ],
           "title": {
            "font": {
             "size": 18
            },
            "text": "suicide rate"
           }
          },
          "yaxis": {
           "autorange": false,
           "range": [
            -0.5,
            5.5
           ],
           "tickfont": {
            "size": 14
           }
          }
         }
        },
        {
         "data": [
          {
           "marker": {
            "color": [
             "#FFFFCC",
             "#008000",
             "#008080",
             "#FF8080",
             "#FFCC99"
            ]
           },
           "orientation": "h",
           "text": [
            21.09553997,
            23.91206752,
            28.01997006,
            30.4101887,
            58.43569089
           ],
           "texttemplate": "%{text:.3s}",
           "type": "bar",
           "x": [
            21.09553997,
            23.91206752,
            28.01997006,
            30.4101887,
            58.43569089
           ],
           "y": [
            "Belarus",
            "Kazakhstan",
            "Russia",
            "Lithuania",
            "Greenland"
           ]
          }
         ],
         "layout": {
          "title": {
           "font": {
            "size": 28
           },
           "text": "Top 5 country in suicide rate (Europe)2014",
           "x": 0.5,
           "xanchor": "center"
          },
          "xaxis": {
           "autorange": false,
           "range": [
            0,
            100
           ],
           "title": {
            "font": {
             "size": 18
            },
            "text": "suicide rate"
           }
          },
          "yaxis": {
           "autorange": false,
           "range": [
            -0.5,
            5.5
           ],
           "tickfont": {
            "size": 14
           }
          }
         }
        },
        {
         "data": [
          {
           "marker": {
            "color": [
             "#008000",
             "#008080",
             "#0066CC",
             "#FF8080",
             "#FFCC99"
            ]
           },
           "orientation": "h",
           "text": [
            22.86606956,
            26.62448443,
            28.42139453,
            29.41731891,
            52.73603901
           ],
           "texttemplate": "%{text:.3s}",
           "type": "bar",
           "x": [
            22.86606956,
            26.62448443,
            28.42139453,
            29.41731891,
            52.73603901
           ],
           "y": [
            "Kazakhstan",
            "Russia",
            "Ukraine",
            "Lithuania",
            "Greenland"
           ]
          }
         ],
         "layout": {
          "title": {
           "font": {
            "size": 28
           },
           "text": "Top 5 country in suicide rate (Europe)2015",
           "x": 0.5,
           "xanchor": "center"
          },
          "xaxis": {
           "autorange": false,
           "range": [
            0,
            100
           ],
           "title": {
            "font": {
             "size": 18
            },
            "text": "suicide rate"
           }
          },
          "yaxis": {
           "autorange": false,
           "range": [
            -0.5,
            5.5
           ],
           "tickfont": {
            "size": 14
           }
          }
         }
        },
        {
         "data": [
          {
           "marker": {
            "color": [
             "#008000",
             "#008080",
             "#0066CC",
             "#FF8080",
             "#FFCC99"
            ]
           },
           "orientation": "h",
           "text": [
            22.76949663,
            25.3915076,
            27.96606294,
            28.1767995,
            51.60994852
           ],
           "texttemplate": "%{text:.3s}",
           "type": "bar",
           "x": [
            22.76949663,
            25.3915076,
            27.96606294,
            28.1767995,
            51.60994852
           ],
           "y": [
            "Kazakhstan",
            "Russia",
            "Ukraine",
            "Lithuania",
            "Greenland"
           ]
          }
         ],
         "layout": {
          "title": {
           "font": {
            "size": 28
           },
           "text": "Top 5 country in suicide rate (Europe)2016",
           "x": 0.5,
           "xanchor": "center"
          },
          "xaxis": {
           "autorange": false,
           "range": [
            0,
            100
           ],
           "title": {
            "font": {
             "size": 18
            },
            "text": "suicide rate"
           }
          },
          "yaxis": {
           "autorange": false,
           "range": [
            -0.5,
            5.5
           ],
           "tickfont": {
            "size": 14
           }
          }
         }
        },
        {
         "data": [
          {
           "marker": {
            "color": [
             "#008000",
             "#008080",
             "#0066CC",
             "#FF8080",
             "#FFCC99"
            ]
           },
           "orientation": "h",
           "text": [
            22.98552802,
            25.08766881,
            25.62222536,
            27.99058442,
            51.06323868
           ],
           "texttemplate": "%{text:.3s}",
           "type": "bar",
           "x": [
            22.98552802,
            25.08766881,
            25.62222536,
            27.99058442,
            51.06323868
           ],
           "y": [
            "Kazakhstan",
            "Russia",
            "Ukraine",
            "Lithuania",
            "Greenland"
           ]
          }
         ],
         "layout": {
          "title": {
           "font": {
            "size": 28
           },
           "text": "Top 5 country in suicide rate (Europe)2017",
           "x": 0.5,
           "xanchor": "center"
          },
          "xaxis": {
           "autorange": false,
           "range": [
            0,
            100
           ],
           "title": {
            "font": {
             "size": 18
            },
            "text": "suicide rate"
           }
          },
          "yaxis": {
           "autorange": false,
           "range": [
            -0.5,
            5.5
           ],
           "tickfont": {
            "size": 14
           }
          }
         }
        }
       ],
       "layout": {
        "template": {
         "data": {
          "bar": [
           {
            "error_x": {
             "color": "#2a3f5f"
            },
            "error_y": {
             "color": "#2a3f5f"
            },
            "marker": {
             "line": {
              "color": "#E5ECF6",
              "width": 0.5
             },
             "pattern": {
              "fillmode": "overlay",
              "size": 10,
              "solidity": 0.2
             }
            },
            "type": "bar"
           }
          ],
          "barpolar": [
           {
            "marker": {
             "line": {
              "color": "#E5ECF6",
              "width": 0.5
             },
             "pattern": {
              "fillmode": "overlay",
              "size": 10,
              "solidity": 0.2
             }
            },
            "type": "barpolar"
           }
          ],
          "carpet": [
           {
            "aaxis": {
             "endlinecolor": "#2a3f5f",
             "gridcolor": "white",
             "linecolor": "white",
             "minorgridcolor": "white",
             "startlinecolor": "#2a3f5f"
            },
            "baxis": {
             "endlinecolor": "#2a3f5f",
             "gridcolor": "white",
             "linecolor": "white",
             "minorgridcolor": "white",
             "startlinecolor": "#2a3f5f"
            },
            "type": "carpet"
           }
          ],
          "choropleth": [
           {
            "colorbar": {
             "outlinewidth": 0,
             "ticks": ""
            },
            "type": "choropleth"
           }
          ],
          "contour": [
           {
            "colorbar": {
             "outlinewidth": 0,
             "ticks": ""
            },
            "colorscale": [
             [
              0,
              "#0d0887"
             ],
             [
              0.1111111111111111,
              "#46039f"
             ],
             [
              0.2222222222222222,
              "#7201a8"
             ],
             [
              0.3333333333333333,
              "#9c179e"
             ],
             [
              0.4444444444444444,
              "#bd3786"
             ],
             [
              0.5555555555555556,
              "#d8576b"
             ],
             [
              0.6666666666666666,
              "#ed7953"
             ],
             [
              0.7777777777777778,
              "#fb9f3a"
             ],
             [
              0.8888888888888888,
              "#fdca26"
             ],
             [
              1,
              "#f0f921"
             ]
            ],
            "type": "contour"
           }
          ],
          "contourcarpet": [
           {
            "colorbar": {
             "outlinewidth": 0,
             "ticks": ""
            },
            "type": "contourcarpet"
           }
          ],
          "heatmap": [
           {
            "colorbar": {
             "outlinewidth": 0,
             "ticks": ""
            },
            "colorscale": [
             [
              0,
              "#0d0887"
             ],
             [
              0.1111111111111111,
              "#46039f"
             ],
             [
              0.2222222222222222,
              "#7201a8"
             ],
             [
              0.3333333333333333,
              "#9c179e"
             ],
             [
              0.4444444444444444,
              "#bd3786"
             ],
             [
              0.5555555555555556,
              "#d8576b"
             ],
             [
              0.6666666666666666,
              "#ed7953"
             ],
             [
              0.7777777777777778,
              "#fb9f3a"
             ],
             [
              0.8888888888888888,
              "#fdca26"
             ],
             [
              1,
              "#f0f921"
             ]
            ],
            "type": "heatmap"
           }
          ],
          "heatmapgl": [
           {
            "colorbar": {
             "outlinewidth": 0,
             "ticks": ""
            },
            "colorscale": [
             [
              0,
              "#0d0887"
             ],
             [
              0.1111111111111111,
              "#46039f"
             ],
             [
              0.2222222222222222,
              "#7201a8"
             ],
             [
              0.3333333333333333,
              "#9c179e"
             ],
             [
              0.4444444444444444,
              "#bd3786"
             ],
             [
              0.5555555555555556,
              "#d8576b"
             ],
             [
              0.6666666666666666,
              "#ed7953"
             ],
             [
              0.7777777777777778,
              "#fb9f3a"
             ],
             [
              0.8888888888888888,
              "#fdca26"
             ],
             [
              1,
              "#f0f921"
             ]
            ],
            "type": "heatmapgl"
           }
          ],
          "histogram": [
           {
            "marker": {
             "pattern": {
              "fillmode": "overlay",
              "size": 10,
              "solidity": 0.2
             }
            },
            "type": "histogram"
           }
          ],
          "histogram2d": [
           {
            "colorbar": {
             "outlinewidth": 0,
             "ticks": ""
            },
            "colorscale": [
             [
              0,
              "#0d0887"
             ],
             [
              0.1111111111111111,
              "#46039f"
             ],
             [
              0.2222222222222222,
              "#7201a8"
             ],
             [
              0.3333333333333333,
              "#9c179e"
             ],
             [
              0.4444444444444444,
              "#bd3786"
             ],
             [
              0.5555555555555556,
              "#d8576b"
             ],
             [
              0.6666666666666666,
              "#ed7953"
             ],
             [
              0.7777777777777778,
              "#fb9f3a"
             ],
             [
              0.8888888888888888,
              "#fdca26"
             ],
             [
              1,
              "#f0f921"
             ]
            ],
            "type": "histogram2d"
           }
          ],
          "histogram2dcontour": [
           {
            "colorbar": {
             "outlinewidth": 0,
             "ticks": ""
            },
            "colorscale": [
             [
              0,
              "#0d0887"
             ],
             [
              0.1111111111111111,
              "#46039f"
             ],
             [
              0.2222222222222222,
              "#7201a8"
             ],
             [
              0.3333333333333333,
              "#9c179e"
             ],
             [
              0.4444444444444444,
              "#bd3786"
             ],
             [
              0.5555555555555556,
              "#d8576b"
             ],
             [
              0.6666666666666666,
              "#ed7953"
             ],
             [
              0.7777777777777778,
              "#fb9f3a"
             ],
             [
              0.8888888888888888,
              "#fdca26"
             ],
             [
              1,
              "#f0f921"
             ]
            ],
            "type": "histogram2dcontour"
           }
          ],
          "mesh3d": [
           {
            "colorbar": {
             "outlinewidth": 0,
             "ticks": ""
            },
            "type": "mesh3d"
           }
          ],
          "parcoords": [
           {
            "line": {
             "colorbar": {
              "outlinewidth": 0,
              "ticks": ""
             }
            },
            "type": "parcoords"
           }
          ],
          "pie": [
           {
            "automargin": true,
            "type": "pie"
           }
          ],
          "scatter": [
           {
            "fillpattern": {
             "fillmode": "overlay",
             "size": 10,
             "solidity": 0.2
            },
            "type": "scatter"
           }
          ],
          "scatter3d": [
           {
            "line": {
             "colorbar": {
              "outlinewidth": 0,
              "ticks": ""
             }
            },
            "marker": {
             "colorbar": {
              "outlinewidth": 0,
              "ticks": ""
             }
            },
            "type": "scatter3d"
           }
          ],
          "scattercarpet": [
           {
            "marker": {
             "colorbar": {
              "outlinewidth": 0,
              "ticks": ""
             }
            },
            "type": "scattercarpet"
           }
          ],
          "scattergeo": [
           {
            "marker": {
             "colorbar": {
              "outlinewidth": 0,
              "ticks": ""
             }
            },
            "type": "scattergeo"
           }
          ],
          "scattergl": [
           {
            "marker": {
             "colorbar": {
              "outlinewidth": 0,
              "ticks": ""
             }
            },
            "type": "scattergl"
           }
          ],
          "scattermapbox": [
           {
            "marker": {
             "colorbar": {
              "outlinewidth": 0,
              "ticks": ""
             }
            },
            "type": "scattermapbox"
           }
          ],
          "scatterpolar": [
           {
            "marker": {
             "colorbar": {
              "outlinewidth": 0,
              "ticks": ""
             }
            },
            "type": "scatterpolar"
           }
          ],
          "scatterpolargl": [
           {
            "marker": {
             "colorbar": {
              "outlinewidth": 0,
              "ticks": ""
             }
            },
            "type": "scatterpolargl"
           }
          ],
          "scatterternary": [
           {
            "marker": {
             "colorbar": {
              "outlinewidth": 0,
              "ticks": ""
             }
            },
            "type": "scatterternary"
           }
          ],
          "surface": [
           {
            "colorbar": {
             "outlinewidth": 0,
             "ticks": ""
            },
            "colorscale": [
             [
              0,
              "#0d0887"
             ],
             [
              0.1111111111111111,
              "#46039f"
             ],
             [
              0.2222222222222222,
              "#7201a8"
             ],
             [
              0.3333333333333333,
              "#9c179e"
             ],
             [
              0.4444444444444444,
              "#bd3786"
             ],
             [
              0.5555555555555556,
              "#d8576b"
             ],
             [
              0.6666666666666666,
              "#ed7953"
             ],
             [
              0.7777777777777778,
              "#fb9f3a"
             ],
             [
              0.8888888888888888,
              "#fdca26"
             ],
             [
              1,
              "#f0f921"
             ]
            ],
            "type": "surface"
           }
          ],
          "table": [
           {
            "cells": {
             "fill": {
              "color": "#EBF0F8"
             },
             "line": {
              "color": "white"
             }
            },
            "header": {
             "fill": {
              "color": "#C8D4E3"
             },
             "line": {
              "color": "white"
             }
            },
            "type": "table"
           }
          ]
         },
         "layout": {
          "annotationdefaults": {
           "arrowcolor": "#2a3f5f",
           "arrowhead": 0,
           "arrowwidth": 1
          },
          "autotypenumbers": "strict",
          "coloraxis": {
           "colorbar": {
            "outlinewidth": 0,
            "ticks": ""
           }
          },
          "colorscale": {
           "diverging": [
            [
             0,
             "#8e0152"
            ],
            [
             0.1,
             "#c51b7d"
            ],
            [
             0.2,
             "#de77ae"
            ],
            [
             0.3,
             "#f1b6da"
            ],
            [
             0.4,
             "#fde0ef"
            ],
            [
             0.5,
             "#f7f7f7"
            ],
            [
             0.6,
             "#e6f5d0"
            ],
            [
             0.7,
             "#b8e186"
            ],
            [
             0.8,
             "#7fbc41"
            ],
            [
             0.9,
             "#4d9221"
            ],
            [
             1,
             "#276419"
            ]
           ],
           "sequential": [
            [
             0,
             "#0d0887"
            ],
            [
             0.1111111111111111,
             "#46039f"
            ],
            [
             0.2222222222222222,
             "#7201a8"
            ],
            [
             0.3333333333333333,
             "#9c179e"
            ],
            [
             0.4444444444444444,
             "#bd3786"
            ],
            [
             0.5555555555555556,
             "#d8576b"
            ],
            [
             0.6666666666666666,
             "#ed7953"
            ],
            [
             0.7777777777777778,
             "#fb9f3a"
            ],
            [
             0.8888888888888888,
             "#fdca26"
            ],
            [
             1,
             "#f0f921"
            ]
           ],
           "sequentialminus": [
            [
             0,
             "#0d0887"
            ],
            [
             0.1111111111111111,
             "#46039f"
            ],
            [
             0.2222222222222222,
             "#7201a8"
            ],
            [
             0.3333333333333333,
             "#9c179e"
            ],
            [
             0.4444444444444444,
             "#bd3786"
            ],
            [
             0.5555555555555556,
             "#d8576b"
            ],
            [
             0.6666666666666666,
             "#ed7953"
            ],
            [
             0.7777777777777778,
             "#fb9f3a"
            ],
            [
             0.8888888888888888,
             "#fdca26"
            ],
            [
             1,
             "#f0f921"
            ]
           ]
          },
          "colorway": [
           "#636efa",
           "#EF553B",
           "#00cc96",
           "#ab63fa",
           "#FFA15A",
           "#19d3f3",
           "#FF6692",
           "#B6E880",
           "#FF97FF",
           "#FECB52"
          ],
          "font": {
           "color": "#2a3f5f"
          },
          "geo": {
           "bgcolor": "white",
           "lakecolor": "white",
           "landcolor": "#E5ECF6",
           "showlakes": true,
           "showland": true,
           "subunitcolor": "white"
          },
          "hoverlabel": {
           "align": "left"
          },
          "hovermode": "closest",
          "mapbox": {
           "style": "light"
          },
          "paper_bgcolor": "white",
          "plot_bgcolor": "#E5ECF6",
          "polar": {
           "angularaxis": {
            "gridcolor": "white",
            "linecolor": "white",
            "ticks": ""
           },
           "bgcolor": "#E5ECF6",
           "radialaxis": {
            "gridcolor": "white",
            "linecolor": "white",
            "ticks": ""
           }
          },
          "scene": {
           "xaxis": {
            "backgroundcolor": "#E5ECF6",
            "gridcolor": "white",
            "gridwidth": 2,
            "linecolor": "white",
            "showbackground": true,
            "ticks": "",
            "zerolinecolor": "white"
           },
           "yaxis": {
            "backgroundcolor": "#E5ECF6",
            "gridcolor": "white",
            "gridwidth": 2,
            "linecolor": "white",
            "showbackground": true,
            "ticks": "",
            "zerolinecolor": "white"
           },
           "zaxis": {
            "backgroundcolor": "#E5ECF6",
            "gridcolor": "white",
            "gridwidth": 2,
            "linecolor": "white",
            "showbackground": true,
            "ticks": "",
            "zerolinecolor": "white"
           }
          },
          "shapedefaults": {
           "line": {
            "color": "#2a3f5f"
           }
          },
          "ternary": {
           "aaxis": {
            "gridcolor": "white",
            "linecolor": "white",
            "ticks": ""
           },
           "baxis": {
            "gridcolor": "white",
            "linecolor": "white",
            "ticks": ""
           },
           "bgcolor": "#E5ECF6",
           "caxis": {
            "gridcolor": "white",
            "linecolor": "white",
            "ticks": ""
           }
          },
          "title": {
           "x": 0.05
          },
          "xaxis": {
           "automargin": true,
           "gridcolor": "white",
           "linecolor": "white",
           "ticks": "",
           "title": {
            "standoff": 15
           },
           "zerolinecolor": "white",
           "zerolinewidth": 2
          },
          "yaxis": {
           "automargin": true,
           "gridcolor": "white",
           "linecolor": "white",
           "ticks": "",
           "title": {
            "standoff": 15
           },
           "zerolinecolor": "white",
           "zerolinewidth": 2
          }
         }
        },
        "title": {
         "font": {
          "size": 28
         },
         "text": "Top 5 country in suicide rate (Europe)",
         "x": 0.5,
         "xanchor": "center"
        },
        "updatemenus": [
         {
          "buttons": [
           {
            "args": [
             null,
             {
              "frame": {
               "duration": 1000,
               "redraw": true
              },
              "transition": {
               "duration": 250,
               "easing": "linear"
              }
             }
            ],
            "label": "Play",
            "method": "animate"
           }
          ],
          "type": "buttons"
         }
        ],
        "xaxis": {
         "autorange": false,
         "range": [
          0,
          100
         ],
         "title": {
          "font": {
           "size": 18
          },
          "text": "suicide rate"
         }
        },
        "yaxis": {
         "autorange": false,
         "range": [
          -0.5,
          5.5
         ],
         "tickfont": {
          "size": 14
         }
        }
       }
      }
     },
     "metadata": {},
     "output_type": "display_data"
    }
   ],
   "source": [
    "# Use go to create the animation\n",
    "trace = go.Bar(\n",
    "    x=n_frame[0]['rate'],\n",
    "    y=n_frame[0]['country'],\n",
    "    orientation='h',\n",
    "    text=n_frame[0]['rate'],\n",
    "    texttemplate='%{text:.3s}', # First \n",
    "    marker={\n",
    "        'color':n_frame[0]['color_code']\n",
    "    }\n",
    ")\n",
    "bar_data = [trace]\n",
    "layout = go.Layout(\n",
    "    title = {'text':'Top 5 country in suicide rate (Europe)',\n",
    "             'font':{'size':28}, 'x':0.5, 'xanchor':'center'},\n",
    "    xaxis = dict(title={'text':'suicide rate','font':{'size':18}},\n",
    "                 range=[0, 100], autorange=False\n",
    "                ),\n",
    "    yaxis=dict(range=[-0.5, 5.5], autorange=False,tickfont=dict(size=14)),\n",
    "\n",
    "    # Add buttons\n",
    "    updatemenus=[{\n",
    "        'type':'buttons',\n",
    "        'buttons':[{\n",
    "            'label':\"Play\",\n",
    "            'method':'animate',\n",
    "            'args':[None, \n",
    "                    {\"frame\":{\"duration\":1000, \"redraw\":True},\n",
    "                    \"transition\":{\"duration\":250,\n",
    "                                \"easing\":\"linear\"}}]\n",
    "        }]\n",
    "    }]\n",
    ")\n",
    "frames = [go.Frame(data=[go.Bar(\n",
    "                        x=value['rate'],\n",
    "                        y=value['country'],\n",
    "                        orientation='h',\n",
    "                        text=value['rate'],\n",
    "                        texttemplate='%{text:.3s}', # First \n",
    "                        marker={\n",
    "                            'color':value['color_code']\n",
    "                        }\n",
    "                    )],\n",
    "                layout=go.Layout(\n",
    "                        title = {'text':'Top 5 country in suicide rate (Europe)'+str(value['year'].values[0]),\n",
    "                                'font':{'size':28}, 'x':0.5, 'xanchor':'center'},\n",
    "                        xaxis = dict(title={'text':'suicide rate','font':{'size':18}},\n",
    "                                    range=[0, 100], autorange=False\n",
    "                                    ),\n",
    "                        yaxis=dict(range=[-0.5, 5.5], autorange=False,tickfont=dict(size=14)),\n",
    "                    ))\n",
    "          for key, value in n_frame.items()]\n",
    "\n",
    "fig = go.Figure(data=bar_data, layout=layout, frames=frames)\n",
    "pio.show(fig)"
   ]
  },
  {
   "cell_type": "code",
   "execution_count": null,
   "metadata": {},
   "outputs": [],
   "source": []
  }
 ],
 "metadata": {
  "kernelspec": {
   "display_name": "Python 3",
   "language": "python",
   "name": "python3"
  },
  "language_info": {
   "codemirror_mode": {
    "name": "ipython",
    "version": 3
   },
   "file_extension": ".py",
   "mimetype": "text/x-python",
   "name": "python",
   "nbconvert_exporter": "python",
   "pygments_lexer": "ipython3",
   "version": "3.11.1"
  },
  "orig_nbformat": 4,
  "vscode": {
   "interpreter": {
    "hash": "6d91a9896a0e087ef3d77ad844ef4849091ea5be0fade057387b49629b3aa0b9"
   }
  }
 },
 "nbformat": 4,
 "nbformat_minor": 2
}
